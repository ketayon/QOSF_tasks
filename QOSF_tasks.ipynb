{
  "nbformat": 4,
  "nbformat_minor": 0,
  "metadata": {
    "colab": {
      "provenance": [],
      "authorship_tag": "ABX9TyMjVA2O5TX+MwPlFB7lf9SI"
    },
    "kernelspec": {
      "name": "python3",
      "display_name": "Python 3"
    },
    "language_info": {
      "name": "python"
    }
  },
  "cells": [
    {
      "cell_type": "markdown",
      "source": [
        "\n",
        "Task 1 find the primes numbers\n",
        "---\n",
        "\n"
      ],
      "metadata": {
        "id": "SQwsET_PSp8j"
      }
    },
    {
      "cell_type": "code",
      "source": [
        "# %pip install qiskit\n",
        "# %pip install qiskit-aer"
      ],
      "metadata": {
        "id": "0bp89QlOTv1A"
      },
      "execution_count": null,
      "outputs": []
    },
    {
      "cell_type": "code",
      "execution_count": 71,
      "metadata": {
        "colab": {
          "base_uri": "https://localhost:8080/"
        },
        "id": "ZgrzfH_lSi6l",
        "outputId": "0a703c35-5434-408e-c858-3cefaf289b4a"
      },
      "outputs": [
        {
          "output_type": "stream",
          "name": "stdout",
          "text": [
            "1,7\n"
          ]
        }
      ],
      "source": [
        "from qiskit import QuantumCircuit, Aer, transpile\n",
        "from itertools import combinations\n",
        "\n",
        "def quantum_inspired_find_primes(number_1, prime_list):\n",
        "    n = len(prime_list)  # Number of prime numbers in the list\n",
        "\n",
        "    # Create a quantum circuit with n qubits\n",
        "    qc = QuantumCircuit(n)\n",
        "\n",
        "    # Prepare a superposition of all indices in the list\n",
        "    for i in range(n):\n",
        "        qc.h(i)\n",
        "\n",
        "    # Use a quantum oracle to check if a pair of prime numbers sums to number_1\n",
        "    for pair in combinations(range(n), 2):\n",
        "        i, j = pair\n",
        "        if prime_list[i] + prime_list[j] == number_1:\n",
        "            qc.cx(i, n - 1)  # Use a controlled-X gate to mark the solution\n",
        "\n",
        "    # Measure the qubits\n",
        "    qc.measure_all()\n",
        "\n",
        "    # Transpile the circuit for the backend\n",
        "    backend = Aer.get_backend('qasm_simulator')\n",
        "    transpiled_qc = transpile(qc, backend)\n",
        "\n",
        "    # Execute the circuit and get the result\n",
        "    result = backend.run(transpiled_qc).result()\n",
        "    counts = result.get_counts(qc)\n",
        "\n",
        "    for state, count in counts.items():\n",
        "        if count > 0:\n",
        "            indices = [int(bit) for bit in state[::-1]]\n",
        "            prime_indices = [prime_list[i] for i in range(n - 1) if indices[i] == 1]\n",
        "            return f\"{prime_indices[0]},{prime_indices[1]}\"\n",
        "\n",
        "    return \"No such pair of prime numbers found.\"\n",
        "\n",
        "# Example usage:\n",
        "A = quantum_inspired_find_primes(4, [1,3,5,7,11,13,15])\n",
        "print(A)\n"
      ]
    },
    {
      "cell_type": "markdown",
      "source": [
        "Task 2 find negative values"
      ],
      "metadata": {
        "id": "OIdQDCy8m9Z5"
      }
    },
    {
      "cell_type": "code",
      "source": [
        "from qiskit import QuantumCircuit, Aer, transpile\n",
        "\n",
        "def quantum_inspired_find_negative_numbers(number_list):\n",
        "    n = len(number_list)  # Number of numbers in the list\n",
        "\n",
        "    # Create a quantum circuit with n qubits\n",
        "    qc = QuantumCircuit(n)\n",
        "\n",
        "    # Prepare a superposition of all indices in the list\n",
        "    for i in range(n):\n",
        "        qc.h(i)\n",
        "\n",
        "    # Apply an oracle to check if there is a negative number\n",
        "    for i in range(n):\n",
        "        if number_list[i] < 0:\n",
        "            qc.x(i)  # Flip the qubit if the number is negative\n",
        "\n",
        "    # Measure the qubits\n",
        "    qc.measure_all()\n",
        "\n",
        "    # Simulate the quantum circuit\n",
        "    backend = Aer.get_backend('qasm_simulator')\n",
        "    transpiled_qc = transpile(qc, backend)\n",
        "\n",
        "    # Execute the transpiled circuit\n",
        "    result = backend.run(transpiled_qc).result()\n",
        "    counts = result.get_counts(qc)\n",
        "\n",
        "    # Check if any qubit was measured in the |1> state\n",
        "    for state, count in counts.items():\n",
        "        if count > 0 and '1' in state:\n",
        "            return \"True\"\n",
        "\n",
        "    return \"False\"\n",
        "\n",
        "# Example usage:\n",
        "A = quantum_inspired_find_negative_numbers([1, -3, 2, 15])\n",
        "print(A)\n",
        "\n",
        "B = quantum_inspired_find_negative_numbers([1, 4, 8, 11])\n",
        "print(B)\n",
        "\n",
        "C = quantum_inspired_find_negative_numbers([-15, -14, 2, -1])\n",
        "print(C)\n"
      ],
      "metadata": {
        "colab": {
          "base_uri": "https://localhost:8080/"
        },
        "id": "vGHQ9Y2ym-Fo",
        "outputId": "122a503a-3582-4f59-cce2-5e9df407043f"
      },
      "execution_count": 73,
      "outputs": [
        {
          "output_type": "stream",
          "name": "stdout",
          "text": [
            "True\n",
            "True\n",
            "True\n"
          ]
        }
      ]
    },
    {
      "cell_type": "markdown",
      "source": [
        "classical aproach"
      ],
      "metadata": {
        "id": "e3-zvr0nFhkq"
      }
    },
    {
      "cell_type": "code",
      "source": [
        "def find_negative_numbers(list_of_numbers):\n",
        "    for num in list_of_numbers:\n",
        "        if num < 0:\n",
        "            return True\n",
        "    return False\n",
        "\n",
        "# Example usage\n",
        "A = find_negative_numbers([1, -3, 2, 15])\n",
        "print(A)  # Should print True\n",
        "\n",
        "B = find_negative_numbers([1, 4, 8, 11])\n",
        "print(B)  # Should print False\n",
        "\n",
        "C = find_negative_numbers([-15, -14, 2, -1])\n",
        "print(C)"
      ],
      "metadata": {
        "colab": {
          "base_uri": "https://localhost:8080/"
        },
        "id": "14iaYbOzFk_a",
        "outputId": "914fb881-74f0-41bc-c8b9-30894ad9df8f"
      },
      "execution_count": 77,
      "outputs": [
        {
          "output_type": "stream",
          "name": "stdout",
          "text": [
            "True\n",
            "False\n",
            "True\n"
          ]
        }
      ]
    },
    {
      "cell_type": "markdown",
      "source": [
        "Task 3 Decompose"
      ],
      "metadata": {
        "id": "EFtpXZTyEsa5"
      }
    },
    {
      "cell_type": "code",
      "source": [
        "from qiskit import QuantumCircuit, QuantumRegister\n",
        "\n",
        "def multi_controlled_x(circuit, controls, target):\n",
        "    \"\"\"\n",
        "    Constructs a multi-controlled X gate on a given QuantumCircuit.\n",
        "\n",
        "    Args:\n",
        "        circuit (QuantumCircuit): The quantum circuit to apply the gate on.\n",
        "        controls (list): List of control qubits.\n",
        "        target (int): Target qubit for the X gate.\n",
        "    \"\"\"\n",
        "    n = len(controls)\n",
        "\n",
        "    if n == 1:\n",
        "        circuit.cx(controls[0], target)\n",
        "    elif n == 2:\n",
        "        circuit.ccx(controls[0], controls[1], target)\n",
        "    else:\n",
        "        qr = QuantumRegister(n - 2, 'aux')\n",
        "        circuit.add_register(qr)\n",
        "\n",
        "        # Apply the first CCX gate (Toffoli gate)\n",
        "        circuit.ccx(controls[0], controls[1], qr[0])\n",
        "\n",
        "        # Apply additional CCX gates to control the target qubit\n",
        "        for i in range(2, n - 1):\n",
        "            circuit.ccx(controls[i], qr[i - 2], qr[i - 1])\n",
        "\n",
        "        # Apply the final CCX gate (Toffoli gate)\n",
        "        circuit.ccx(controls[n - 1], qr[n - 3], target)\n",
        "\n",
        "# Example usage:\n",
        "n_controls = 3  # Number of control qubits\n",
        "qc = QuantumCircuit(n_controls + 1)  # Create a quantum circuit with n_controls + 1 qubits\n",
        "multi_controlled_x(qc, [0, 1, 2], n_controls)  # Construct CCCX gate\n",
        "print(qc.draw())\n"
      ],
      "metadata": {
        "colab": {
          "base_uri": "https://localhost:8080/"
        },
        "id": "PUCGJ9GvEtZV",
        "outputId": "c09aa55e-f911-41ad-abc1-73dced586566"
      },
      "execution_count": 76,
      "outputs": [
        {
          "output_type": "stream",
          "name": "stdout",
          "text": [
            "               \n",
            "q_0: ──■───────\n",
            "       │       \n",
            "q_1: ──■───────\n",
            "       │       \n",
            "q_2: ──┼────■──\n",
            "       │  ┌─┴─┐\n",
            "q_3: ──┼──┤ X ├\n",
            "     ┌─┴─┐└─┬─┘\n",
            "aux: ┤ X ├──■──\n",
            "     └───┘     \n"
          ]
        }
      ]
    },
    {
      "cell_type": "markdown",
      "source": [
        "Task 4 The NISQ devices\n"
      ],
      "metadata": {
        "id": "dsmY7rAPFu0o"
      }
    },
    {
      "cell_type": "code",
      "source": [],
      "metadata": {
        "id": "fhEBsiTKFveg"
      },
      "execution_count": null,
      "outputs": []
    }
  ]
}